{
 "cells": [
  {
   "cell_type": "code",
   "execution_count": 1,
   "metadata": {},
   "outputs": [],
   "source": [
    "import pandas as pd\n",
    "import numpy as np"
   ]
  },
  {
   "cell_type": "code",
   "execution_count": 2,
   "metadata": {},
   "outputs": [
    {
     "data": {
      "text/html": [
       "<div>\n",
       "<style scoped>\n",
       "    .dataframe tbody tr th:only-of-type {\n",
       "        vertical-align: middle;\n",
       "    }\n",
       "\n",
       "    .dataframe tbody tr th {\n",
       "        vertical-align: top;\n",
       "    }\n",
       "\n",
       "    .dataframe thead th {\n",
       "        text-align: right;\n",
       "    }\n",
       "</style>\n",
       "<table border=\"1\" class=\"dataframe\">\n",
       "  <thead>\n",
       "    <tr style=\"text-align: right;\">\n",
       "      <th></th>\n",
       "      <th>Street Address</th>\n",
       "      <th>City</th>\n",
       "      <th>County</th>\n",
       "      <th>State</th>\n",
       "      <th>Country</th>\n",
       "      <th>Zipcode</th>\n",
       "      <th>Ziilow Id</th>\n",
       "      <th>Property Url</th>\n",
       "      <th>Bedrooms</th>\n",
       "      <th>Bathrooms</th>\n",
       "      <th>...</th>\n",
       "      <th>Listing Type</th>\n",
       "      <th>Agent Name</th>\n",
       "      <th>Agent Phone Number</th>\n",
       "      <th>Agent Email</th>\n",
       "      <th>Agent License Number</th>\n",
       "      <th>Agency</th>\n",
       "      <th>MLS ID</th>\n",
       "      <th>MLS Name</th>\n",
       "      <th>HOA Fee</th>\n",
       "      <th>Pictures</th>\n",
       "    </tr>\n",
       "  </thead>\n",
       "  <tbody>\n",
       "    <tr>\n",
       "      <th>0</th>\n",
       "      <td>829 W 66th St</td>\n",
       "      <td>Los Angeles</td>\n",
       "      <td>Los Angeles County</td>\n",
       "      <td>CA</td>\n",
       "      <td>USA</td>\n",
       "      <td>90044</td>\n",
       "      <td>20934009</td>\n",
       "      <td>https://www.zillow.com/homedetails/829-W-66th-...</td>\n",
       "      <td>3</td>\n",
       "      <td>1</td>\n",
       "      <td>...</td>\n",
       "      <td>Unknown Listed By</td>\n",
       "      <td>Lillie Reda</td>\n",
       "      <td>323-747-3640</td>\n",
       "      <td>lilliec1@att.net</td>\n",
       "      <td>DRE #01084559</td>\n",
       "      <td>Excellence Real Estate</td>\n",
       "      <td>DW22007910</td>\n",
       "      <td>CRMLS</td>\n",
       "      <td>NaN</td>\n",
       "      <td>https://photos.zillowstatic.com/fp/a0f5b38d972...</td>\n",
       "    </tr>\n",
       "    <tr>\n",
       "      <th>1</th>\n",
       "      <td>9673 Via Torino #154</td>\n",
       "      <td>Burbank</td>\n",
       "      <td>Los Angeles County</td>\n",
       "      <td>CA</td>\n",
       "      <td>USA</td>\n",
       "      <td>91504</td>\n",
       "      <td>20033668</td>\n",
       "      <td>https://www.zillow.com/homedetails/9673-Via-To...</td>\n",
       "      <td>2</td>\n",
       "      <td>2</td>\n",
       "      <td>...</td>\n",
       "      <td>For Rent</td>\n",
       "      <td>NaN</td>\n",
       "      <td>NaN</td>\n",
       "      <td>jerry@teamrockproperties.com</td>\n",
       "      <td>NaN</td>\n",
       "      <td>NaN</td>\n",
       "      <td>NaN</td>\n",
       "      <td>Zillow Rental Manager</td>\n",
       "      <td>$439 monthly</td>\n",
       "      <td>https://photos.zillowstatic.com/fp/22c59ef7419...</td>\n",
       "    </tr>\n",
       "    <tr>\n",
       "      <th>2</th>\n",
       "      <td>9673 Via Torino</td>\n",
       "      <td>Burbank</td>\n",
       "      <td>Los Angeles County</td>\n",
       "      <td>CA</td>\n",
       "      <td>USA</td>\n",
       "      <td>91504</td>\n",
       "      <td>2088531295</td>\n",
       "      <td>https://www.zillow.com/homedetails/9673-Via-To...</td>\n",
       "      <td>2</td>\n",
       "      <td>1.5</td>\n",
       "      <td>...</td>\n",
       "      <td>Unknown Listed By</td>\n",
       "      <td>NaN</td>\n",
       "      <td>NaN</td>\n",
       "      <td>NaN</td>\n",
       "      <td>NaN</td>\n",
       "      <td>NaN</td>\n",
       "      <td>NaN</td>\n",
       "      <td>NaN</td>\n",
       "      <td>NaN</td>\n",
       "      <td>https://photos.zillowstatic.com/fp/c960fd9b761...</td>\n",
       "    </tr>\n",
       "    <tr>\n",
       "      <th>3</th>\n",
       "      <td>13621 Simshaw Ave</td>\n",
       "      <td>Sylmar</td>\n",
       "      <td>Los Angeles County</td>\n",
       "      <td>CA</td>\n",
       "      <td>USA</td>\n",
       "      <td>91342</td>\n",
       "      <td>20102436</td>\n",
       "      <td>https://www.zillow.com/homedetails/13621-Simsh...</td>\n",
       "      <td>3</td>\n",
       "      <td>2</td>\n",
       "      <td>...</td>\n",
       "      <td>Unknown Listed By</td>\n",
       "      <td>Audrey Overton</td>\n",
       "      <td>NaN</td>\n",
       "      <td>audrey@audreyoverton.com</td>\n",
       "      <td>DRE #02007589</td>\n",
       "      <td>Century 21 Everest</td>\n",
       "      <td>SR22032355</td>\n",
       "      <td>CRMLS</td>\n",
       "      <td>NaN</td>\n",
       "      <td>https://photos.zillowstatic.com/fp/f41d7ed87a0...</td>\n",
       "    </tr>\n",
       "    <tr>\n",
       "      <th>4</th>\n",
       "      <td>4600 Don Lorenzo Dr APT 30</td>\n",
       "      <td>Los Angeles</td>\n",
       "      <td>Los Angeles County</td>\n",
       "      <td>CA</td>\n",
       "      <td>USA</td>\n",
       "      <td>90008</td>\n",
       "      <td>61361676</td>\n",
       "      <td>https://www.zillow.com/homedetails/4600-Don-Lo...</td>\n",
       "      <td>2</td>\n",
       "      <td>3</td>\n",
       "      <td>...</td>\n",
       "      <td>Unknown Listed By</td>\n",
       "      <td>Stefanie Mcintyre</td>\n",
       "      <td>818-321-6522</td>\n",
       "      <td>soldbystefanie@kw.com</td>\n",
       "      <td>DRE # 01874509</td>\n",
       "      <td>KW Advisors</td>\n",
       "      <td>22-117173</td>\n",
       "      <td>CLAW</td>\n",
       "      <td>$404 monthly</td>\n",
       "      <td>https://photos.zillowstatic.com/fp/6a763dd674b...</td>\n",
       "    </tr>\n",
       "  </tbody>\n",
       "</table>\n",
       "<p>5 rows × 44 columns</p>\n",
       "</div>"
      ],
      "text/plain": [
       "               Street Address         City              County State Country  \\\n",
       "0               829 W 66th St  Los Angeles  Los Angeles County    CA     USA   \n",
       "1        9673 Via Torino #154      Burbank  Los Angeles County    CA     USA   \n",
       "2             9673 Via Torino      Burbank  Los Angeles County    CA     USA   \n",
       "3           13621 Simshaw Ave       Sylmar  Los Angeles County    CA     USA   \n",
       "4  4600 Don Lorenzo Dr APT 30  Los Angeles  Los Angeles County    CA     USA   \n",
       "\n",
       "  Zipcode   Ziilow Id                                       Property Url  \\\n",
       "0   90044    20934009  https://www.zillow.com/homedetails/829-W-66th-...   \n",
       "1   91504    20033668  https://www.zillow.com/homedetails/9673-Via-To...   \n",
       "2   91504  2088531295  https://www.zillow.com/homedetails/9673-Via-To...   \n",
       "3   91342    20102436  https://www.zillow.com/homedetails/13621-Simsh...   \n",
       "4   90008    61361676  https://www.zillow.com/homedetails/4600-Don-Lo...   \n",
       "\n",
       "  Bedrooms Bathrooms  ...       Listing Type         Agent Name  \\\n",
       "0        3         1  ...  Unknown Listed By        Lillie Reda   \n",
       "1        2         2  ...           For Rent                NaN   \n",
       "2        2       1.5  ...  Unknown Listed By                NaN   \n",
       "3        3         2  ...  Unknown Listed By     Audrey Overton   \n",
       "4        2         3  ...  Unknown Listed By  Stefanie Mcintyre   \n",
       "\n",
       "  Agent Phone Number                   Agent Email Agent License Number  \\\n",
       "0       323-747-3640              lilliec1@att.net        DRE #01084559   \n",
       "1                NaN  jerry@teamrockproperties.com                  NaN   \n",
       "2                NaN                           NaN                  NaN   \n",
       "3                NaN      audrey@audreyoverton.com        DRE #02007589   \n",
       "4       818-321-6522         soldbystefanie@kw.com       DRE # 01874509   \n",
       "\n",
       "                   Agency      MLS ID               MLS Name       HOA Fee  \\\n",
       "0  Excellence Real Estate  DW22007910                  CRMLS           NaN   \n",
       "1                     NaN         NaN  Zillow Rental Manager  $439 monthly   \n",
       "2                     NaN         NaN                    NaN           NaN   \n",
       "3      Century 21 Everest  SR22032355                  CRMLS           NaN   \n",
       "4             KW Advisors   22-117173                   CLAW  $404 monthly   \n",
       "\n",
       "                                            Pictures  \n",
       "0  https://photos.zillowstatic.com/fp/a0f5b38d972...  \n",
       "1  https://photos.zillowstatic.com/fp/22c59ef7419...  \n",
       "2  https://photos.zillowstatic.com/fp/c960fd9b761...  \n",
       "3  https://photos.zillowstatic.com/fp/f41d7ed87a0...  \n",
       "4  https://photos.zillowstatic.com/fp/6a763dd674b...  \n",
       "\n",
       "[5 rows x 44 columns]"
      ]
     },
     "execution_count": 2,
     "metadata": {},
     "output_type": "execute_result"
    }
   ],
   "source": [
    "df = pd.read_csv(\"final_zillow.csv\", dtype = str, header = 1)\n",
    "df.head()"
   ]
  },
  {
   "cell_type": "code",
   "execution_count": 3,
   "metadata": {},
   "outputs": [],
   "source": [
    "drop_cols = ['Property Url', 'Country', 'Ziilow Id', 'Living Area Unit', 'Cooling', 'Fireplaces', 'Heating',\n",
    "            'Parking', 'Currency', 'Time On Zillow', 'Latitude', 'Longitude',\n",
    "            'Listing Type', 'Agent Phone Number', 'Agent Email', 'Agent License Number',\n",
    "            'MLS ID', 'MLS Name', 'HOA Fee', 'Pictures', 'Street Address']"
   ]
  },
  {
   "cell_type": "code",
   "execution_count": 4,
   "metadata": {},
   "outputs": [],
   "source": [
    "df = df.drop(drop_cols, axis = 1)"
   ]
  },
  {
   "cell_type": "code",
   "execution_count": 5,
   "metadata": {},
   "outputs": [],
   "source": [
    "df['Price'] = df['Price'].replace('--', np.nan)"
   ]
  },
  {
   "cell_type": "code",
   "execution_count": 6,
   "metadata": {},
   "outputs": [],
   "source": [
    "df['Description'] = df['Description'].astype(str)"
   ]
  },
  {
   "cell_type": "code",
   "execution_count": 7,
   "metadata": {},
   "outputs": [
    {
     "name": "stdout",
     "output_type": "stream",
     "text": [
      "<class 'pandas.core.frame.DataFrame'>\n",
      "RangeIndex: 34397 entries, 0 to 34396\n",
      "Data columns (total 23 columns):\n",
      " #   Column            Non-Null Count  Dtype \n",
      "---  ------            --------------  ----- \n",
      " 0   City              34397 non-null  object\n",
      " 1   County            34397 non-null  object\n",
      " 2   State             34397 non-null  object\n",
      " 3   Zipcode           34397 non-null  object\n",
      " 4   Bedrooms          33376 non-null  object\n",
      " 5   Bathrooms         33434 non-null  object\n",
      " 6   Property Status   34397 non-null  object\n",
      " 7   Property Type     34397 non-null  object\n",
      " 8   Living Area       33411 non-null  object\n",
      " 9   Zestimate         30863 non-null  object\n",
      " 10  Has Cooling       33320 non-null  object\n",
      " 11  Has Fireplace     27021 non-null  object\n",
      " 12  Has Heating       31320 non-null  object\n",
      " 13  Has Parking       9115 non-null   object\n",
      " 14  Parking Capacity  34397 non-null  object\n",
      " 15  Price             34396 non-null  object\n",
      " 16  Year Built        33204 non-null  object\n",
      " 17  Description       34397 non-null  object\n",
      " 18  Days On Zillow    34395 non-null  object\n",
      " 19  View Count        34396 non-null  object\n",
      " 20  Favourite Count   34396 non-null  object\n",
      " 21  Agent Name        27118 non-null  object\n",
      " 22  Agency            27103 non-null  object\n",
      "dtypes: object(23)\n",
      "memory usage: 6.0+ MB\n"
     ]
    }
   ],
   "source": [
    "df.info()"
   ]
  },
  {
   "cell_type": "code",
   "execution_count": 8,
   "metadata": {},
   "outputs": [],
   "source": [
    "df = df.drop(5901, axis = 0)"
   ]
  },
  {
   "cell_type": "code",
   "execution_count": 9,
   "metadata": {},
   "outputs": [
    {
     "data": {
      "text/plain": [
       "0        685000\n",
       "1          3500\n",
       "2        685000\n",
       "3        688000\n",
       "4        700000\n",
       "          ...  \n",
       "34392    810000\n",
       "34393    815000\n",
       "34394    810000\n",
       "34395    810000\n",
       "34396    805000\n",
       "Name: Price, Length: 34396, dtype: int64"
      ]
     },
     "execution_count": 9,
     "metadata": {},
     "output_type": "execute_result"
    }
   ],
   "source": [
    "pd.to_numeric(df['Price'])"
   ]
  },
  {
   "cell_type": "markdown",
   "metadata": {},
   "source": [
    "## Basic Feature Extraction"
   ]
  },
  {
   "cell_type": "markdown",
   "metadata": {},
   "source": [
    "### Word Count"
   ]
  },
  {
   "cell_type": "code",
   "execution_count": 10,
   "metadata": {},
   "outputs": [],
   "source": [
    "df['word_count'] = df['Description'].apply(lambda x: len(str(x).split(\" \")))"
   ]
  },
  {
   "cell_type": "code",
   "execution_count": 11,
   "metadata": {},
   "outputs": [
    {
     "data": {
      "text/html": [
       "<div>\n",
       "<style scoped>\n",
       "    .dataframe tbody tr th:only-of-type {\n",
       "        vertical-align: middle;\n",
       "    }\n",
       "\n",
       "    .dataframe tbody tr th {\n",
       "        vertical-align: top;\n",
       "    }\n",
       "\n",
       "    .dataframe thead th {\n",
       "        text-align: right;\n",
       "    }\n",
       "</style>\n",
       "<table border=\"1\" class=\"dataframe\">\n",
       "  <thead>\n",
       "    <tr style=\"text-align: right;\">\n",
       "      <th></th>\n",
       "      <th>City</th>\n",
       "      <th>County</th>\n",
       "      <th>State</th>\n",
       "      <th>Zipcode</th>\n",
       "      <th>Bedrooms</th>\n",
       "      <th>Bathrooms</th>\n",
       "      <th>Property Status</th>\n",
       "      <th>Property Type</th>\n",
       "      <th>Living Area</th>\n",
       "      <th>Zestimate</th>\n",
       "      <th>...</th>\n",
       "      <th>Parking Capacity</th>\n",
       "      <th>Price</th>\n",
       "      <th>Year Built</th>\n",
       "      <th>Description</th>\n",
       "      <th>Days On Zillow</th>\n",
       "      <th>View Count</th>\n",
       "      <th>Favourite Count</th>\n",
       "      <th>Agent Name</th>\n",
       "      <th>Agency</th>\n",
       "      <th>word_count</th>\n",
       "    </tr>\n",
       "  </thead>\n",
       "  <tbody>\n",
       "    <tr>\n",
       "      <th>0</th>\n",
       "      <td>Los Angeles</td>\n",
       "      <td>Los Angeles County</td>\n",
       "      <td>CA</td>\n",
       "      <td>90044</td>\n",
       "      <td>3</td>\n",
       "      <td>1</td>\n",
       "      <td>RECENTLY_SOLD</td>\n",
       "      <td>SINGLE_FAMILY</td>\n",
       "      <td>1044</td>\n",
       "      <td>662700</td>\n",
       "      <td>...</td>\n",
       "      <td>1</td>\n",
       "      <td>685000</td>\n",
       "      <td>1921</td>\n",
       "      <td>Huge Development or Investment Potential!. Thi...</td>\n",
       "      <td>3</td>\n",
       "      <td>31</td>\n",
       "      <td>0</td>\n",
       "      <td>Lillie Reda</td>\n",
       "      <td>Excellence Real Estate</td>\n",
       "      <td>84</td>\n",
       "    </tr>\n",
       "    <tr>\n",
       "      <th>1</th>\n",
       "      <td>Burbank</td>\n",
       "      <td>Los Angeles County</td>\n",
       "      <td>CA</td>\n",
       "      <td>91504</td>\n",
       "      <td>2</td>\n",
       "      <td>2</td>\n",
       "      <td>FOR_RENT</td>\n",
       "      <td>TOWNHOUSE</td>\n",
       "      <td>1151</td>\n",
       "      <td>649951</td>\n",
       "      <td>...</td>\n",
       "      <td>2</td>\n",
       "      <td>3500</td>\n",
       "      <td>1975</td>\n",
       "      <td>Fully remodeled, Corner Unit townhome in the C...</td>\n",
       "      <td>3</td>\n",
       "      <td>359</td>\n",
       "      <td>22</td>\n",
       "      <td>NaN</td>\n",
       "      <td>NaN</td>\n",
       "      <td>146</td>\n",
       "    </tr>\n",
       "    <tr>\n",
       "      <th>2</th>\n",
       "      <td>Burbank</td>\n",
       "      <td>Los Angeles County</td>\n",
       "      <td>CA</td>\n",
       "      <td>91504</td>\n",
       "      <td>2</td>\n",
       "      <td>1.5</td>\n",
       "      <td>RECENTLY_SOLD</td>\n",
       "      <td>TOWNHOUSE</td>\n",
       "      <td>1151</td>\n",
       "      <td>887400</td>\n",
       "      <td>...</td>\n",
       "      <td>0</td>\n",
       "      <td>685000</td>\n",
       "      <td>NaN</td>\n",
       "      <td>Cabrini Villas.Top of Hill.Private/Quiet/Grass...</td>\n",
       "      <td>3</td>\n",
       "      <td>9</td>\n",
       "      <td>0</td>\n",
       "      <td>NaN</td>\n",
       "      <td>NaN</td>\n",
       "      <td>86</td>\n",
       "    </tr>\n",
       "    <tr>\n",
       "      <th>3</th>\n",
       "      <td>Sylmar</td>\n",
       "      <td>Los Angeles County</td>\n",
       "      <td>CA</td>\n",
       "      <td>91342</td>\n",
       "      <td>3</td>\n",
       "      <td>2</td>\n",
       "      <td>RECENTLY_SOLD</td>\n",
       "      <td>SINGLE_FAMILY</td>\n",
       "      <td>1274</td>\n",
       "      <td>623000</td>\n",
       "      <td>...</td>\n",
       "      <td>4</td>\n",
       "      <td>688000</td>\n",
       "      <td>1959</td>\n",
       "      <td>SOLD BEFORE PROCESSING - Welcome home to this ...</td>\n",
       "      <td>4</td>\n",
       "      <td>23</td>\n",
       "      <td>0</td>\n",
       "      <td>Audrey Overton</td>\n",
       "      <td>Century 21 Everest</td>\n",
       "      <td>73</td>\n",
       "    </tr>\n",
       "    <tr>\n",
       "      <th>4</th>\n",
       "      <td>Los Angeles</td>\n",
       "      <td>Los Angeles County</td>\n",
       "      <td>CA</td>\n",
       "      <td>90008</td>\n",
       "      <td>2</td>\n",
       "      <td>3</td>\n",
       "      <td>RECENTLY_SOLD</td>\n",
       "      <td>TOWNHOUSE</td>\n",
       "      <td>1151</td>\n",
       "      <td>664700</td>\n",
       "      <td>...</td>\n",
       "      <td>2</td>\n",
       "      <td>700000</td>\n",
       "      <td>2002</td>\n",
       "      <td>This tri-level end unit is one of Just 55 unit...</td>\n",
       "      <td>4</td>\n",
       "      <td>28</td>\n",
       "      <td>0</td>\n",
       "      <td>Stefanie Mcintyre</td>\n",
       "      <td>KW Advisors</td>\n",
       "      <td>143</td>\n",
       "    </tr>\n",
       "  </tbody>\n",
       "</table>\n",
       "<p>5 rows × 24 columns</p>\n",
       "</div>"
      ],
      "text/plain": [
       "          City              County State Zipcode Bedrooms Bathrooms  \\\n",
       "0  Los Angeles  Los Angeles County    CA   90044        3         1   \n",
       "1      Burbank  Los Angeles County    CA   91504        2         2   \n",
       "2      Burbank  Los Angeles County    CA   91504        2       1.5   \n",
       "3       Sylmar  Los Angeles County    CA   91342        3         2   \n",
       "4  Los Angeles  Los Angeles County    CA   90008        2         3   \n",
       "\n",
       "  Property Status  Property Type Living Area Zestimate  ... Parking Capacity  \\\n",
       "0   RECENTLY_SOLD  SINGLE_FAMILY        1044    662700  ...                1   \n",
       "1        FOR_RENT      TOWNHOUSE        1151    649951  ...                2   \n",
       "2   RECENTLY_SOLD      TOWNHOUSE        1151    887400  ...                0   \n",
       "3   RECENTLY_SOLD  SINGLE_FAMILY        1274    623000  ...                4   \n",
       "4   RECENTLY_SOLD      TOWNHOUSE        1151    664700  ...                2   \n",
       "\n",
       "    Price Year Built                                        Description  \\\n",
       "0  685000       1921  Huge Development or Investment Potential!. Thi...   \n",
       "1    3500       1975  Fully remodeled, Corner Unit townhome in the C...   \n",
       "2  685000        NaN  Cabrini Villas.Top of Hill.Private/Quiet/Grass...   \n",
       "3  688000       1959  SOLD BEFORE PROCESSING - Welcome home to this ...   \n",
       "4  700000       2002  This tri-level end unit is one of Just 55 unit...   \n",
       "\n",
       "  Days On Zillow View Count Favourite Count         Agent Name  \\\n",
       "0              3         31               0        Lillie Reda   \n",
       "1              3        359              22                NaN   \n",
       "2              3          9               0                NaN   \n",
       "3              4         23               0     Audrey Overton   \n",
       "4              4         28               0  Stefanie Mcintyre   \n",
       "\n",
       "                   Agency word_count  \n",
       "0  Excellence Real Estate         84  \n",
       "1                     NaN        146  \n",
       "2                     NaN         86  \n",
       "3      Century 21 Everest         73  \n",
       "4             KW Advisors        143  \n",
       "\n",
       "[5 rows x 24 columns]"
      ]
     },
     "execution_count": 11,
     "metadata": {},
     "output_type": "execute_result"
    }
   ],
   "source": [
    "df.head()"
   ]
  },
  {
   "cell_type": "markdown",
   "metadata": {},
   "source": [
    "### Average Word Length"
   ]
  },
  {
   "cell_type": "code",
   "execution_count": 12,
   "metadata": {},
   "outputs": [],
   "source": [
    "def avg_word(sentence):\n",
    "    words = sentence.split()\n",
    "    return (sum(len(word) for word in words)/len(words))"
   ]
  },
  {
   "cell_type": "code",
   "execution_count": 13,
   "metadata": {},
   "outputs": [
    {
     "data": {
      "text/html": [
       "<div>\n",
       "<style scoped>\n",
       "    .dataframe tbody tr th:only-of-type {\n",
       "        vertical-align: middle;\n",
       "    }\n",
       "\n",
       "    .dataframe tbody tr th {\n",
       "        vertical-align: top;\n",
       "    }\n",
       "\n",
       "    .dataframe thead th {\n",
       "        text-align: right;\n",
       "    }\n",
       "</style>\n",
       "<table border=\"1\" class=\"dataframe\">\n",
       "  <thead>\n",
       "    <tr style=\"text-align: right;\">\n",
       "      <th></th>\n",
       "      <th>Description</th>\n",
       "      <th>avg_word</th>\n",
       "    </tr>\n",
       "  </thead>\n",
       "  <tbody>\n",
       "    <tr>\n",
       "      <th>0</th>\n",
       "      <td>Huge Development or Investment Potential!. Thi...</td>\n",
       "      <td>4.542169</td>\n",
       "    </tr>\n",
       "    <tr>\n",
       "      <th>1</th>\n",
       "      <td>Fully remodeled, Corner Unit townhome in the C...</td>\n",
       "      <td>4.829932</td>\n",
       "    </tr>\n",
       "    <tr>\n",
       "      <th>2</th>\n",
       "      <td>Cabrini Villas.Top of Hill.Private/Quiet/Grass...</td>\n",
       "      <td>6.209302</td>\n",
       "    </tr>\n",
       "    <tr>\n",
       "      <th>3</th>\n",
       "      <td>SOLD BEFORE PROCESSING - Welcome home to this ...</td>\n",
       "      <td>4.485714</td>\n",
       "    </tr>\n",
       "    <tr>\n",
       "      <th>4</th>\n",
       "      <td>This tri-level end unit is one of Just 55 unit...</td>\n",
       "      <td>5.204225</td>\n",
       "    </tr>\n",
       "  </tbody>\n",
       "</table>\n",
       "</div>"
      ],
      "text/plain": [
       "                                         Description  avg_word\n",
       "0  Huge Development or Investment Potential!. Thi...  4.542169\n",
       "1  Fully remodeled, Corner Unit townhome in the C...  4.829932\n",
       "2  Cabrini Villas.Top of Hill.Private/Quiet/Grass...  6.209302\n",
       "3  SOLD BEFORE PROCESSING - Welcome home to this ...  4.485714\n",
       "4  This tri-level end unit is one of Just 55 unit...  5.204225"
      ]
     },
     "execution_count": 13,
     "metadata": {},
     "output_type": "execute_result"
    }
   ],
   "source": [
    "df['avg_word'] = df['Description'].apply(lambda x: avg_word(x))\n",
    "df[['Description','avg_word']].head()"
   ]
  },
  {
   "cell_type": "markdown",
   "metadata": {},
   "source": [
    "### Stopwords"
   ]
  },
  {
   "cell_type": "code",
   "execution_count": 14,
   "metadata": {},
   "outputs": [],
   "source": [
    "import nltk"
   ]
  },
  {
   "cell_type": "code",
   "execution_count": 15,
   "metadata": {},
   "outputs": [
    {
     "data": {
      "text/html": [
       "<div>\n",
       "<style scoped>\n",
       "    .dataframe tbody tr th:only-of-type {\n",
       "        vertical-align: middle;\n",
       "    }\n",
       "\n",
       "    .dataframe tbody tr th {\n",
       "        vertical-align: top;\n",
       "    }\n",
       "\n",
       "    .dataframe thead th {\n",
       "        text-align: right;\n",
       "    }\n",
       "</style>\n",
       "<table border=\"1\" class=\"dataframe\">\n",
       "  <thead>\n",
       "    <tr style=\"text-align: right;\">\n",
       "      <th></th>\n",
       "      <th>Description</th>\n",
       "      <th>stopwords</th>\n",
       "    </tr>\n",
       "  </thead>\n",
       "  <tbody>\n",
       "    <tr>\n",
       "      <th>0</th>\n",
       "      <td>Huge Development or Investment Potential!. Thi...</td>\n",
       "      <td>31</td>\n",
       "    </tr>\n",
       "    <tr>\n",
       "      <th>1</th>\n",
       "      <td>Fully remodeled, Corner Unit townhome in the C...</td>\n",
       "      <td>47</td>\n",
       "    </tr>\n",
       "    <tr>\n",
       "      <th>2</th>\n",
       "      <td>Cabrini Villas.Top of Hill.Private/Quiet/Grass...</td>\n",
       "      <td>14</td>\n",
       "    </tr>\n",
       "    <tr>\n",
       "      <th>3</th>\n",
       "      <td>SOLD BEFORE PROCESSING - Welcome home to this ...</td>\n",
       "      <td>24</td>\n",
       "    </tr>\n",
       "    <tr>\n",
       "      <th>4</th>\n",
       "      <td>This tri-level end unit is one of Just 55 unit...</td>\n",
       "      <td>37</td>\n",
       "    </tr>\n",
       "  </tbody>\n",
       "</table>\n",
       "</div>"
      ],
      "text/plain": [
       "                                         Description  stopwords\n",
       "0  Huge Development or Investment Potential!. Thi...         31\n",
       "1  Fully remodeled, Corner Unit townhome in the C...         47\n",
       "2  Cabrini Villas.Top of Hill.Private/Quiet/Grass...         14\n",
       "3  SOLD BEFORE PROCESSING - Welcome home to this ...         24\n",
       "4  This tri-level end unit is one of Just 55 unit...         37"
      ]
     },
     "execution_count": 15,
     "metadata": {},
     "output_type": "execute_result"
    }
   ],
   "source": [
    "from nltk.corpus import stopwords\n",
    "stop = stopwords.words('english')\n",
    "\n",
    "df['stopwords'] = df['Description'].apply(lambda x: len([x for x in x.split() if x in stop]))\n",
    "df[['Description','stopwords']].head()"
   ]
  },
  {
   "cell_type": "markdown",
   "metadata": {},
   "source": [
    "### Special Characters - Exclamation"
   ]
  },
  {
   "cell_type": "code",
   "execution_count": 16,
   "metadata": {},
   "outputs": [
    {
     "data": {
      "text/html": [
       "<div>\n",
       "<style scoped>\n",
       "    .dataframe tbody tr th:only-of-type {\n",
       "        vertical-align: middle;\n",
       "    }\n",
       "\n",
       "    .dataframe tbody tr th {\n",
       "        vertical-align: top;\n",
       "    }\n",
       "\n",
       "    .dataframe thead th {\n",
       "        text-align: right;\n",
       "    }\n",
       "</style>\n",
       "<table border=\"1\" class=\"dataframe\">\n",
       "  <thead>\n",
       "    <tr style=\"text-align: right;\">\n",
       "      <th></th>\n",
       "      <th>Description</th>\n",
       "      <th>chars</th>\n",
       "    </tr>\n",
       "  </thead>\n",
       "  <tbody>\n",
       "    <tr>\n",
       "      <th>0</th>\n",
       "      <td>Huge Development or Investment Potential!. Thi...</td>\n",
       "      <td>1</td>\n",
       "    </tr>\n",
       "    <tr>\n",
       "      <th>1</th>\n",
       "      <td>Fully remodeled, Corner Unit townhome in the C...</td>\n",
       "      <td>1</td>\n",
       "    </tr>\n",
       "    <tr>\n",
       "      <th>2</th>\n",
       "      <td>Cabrini Villas.Top of Hill.Private/Quiet/Grass...</td>\n",
       "      <td>0</td>\n",
       "    </tr>\n",
       "    <tr>\n",
       "      <th>3</th>\n",
       "      <td>SOLD BEFORE PROCESSING - Welcome home to this ...</td>\n",
       "      <td>0</td>\n",
       "    </tr>\n",
       "    <tr>\n",
       "      <th>4</th>\n",
       "      <td>This tri-level end unit is one of Just 55 unit...</td>\n",
       "      <td>0</td>\n",
       "    </tr>\n",
       "  </tbody>\n",
       "</table>\n",
       "</div>"
      ],
      "text/plain": [
       "                                         Description  chars\n",
       "0  Huge Development or Investment Potential!. Thi...      1\n",
       "1  Fully remodeled, Corner Unit townhome in the C...      1\n",
       "2  Cabrini Villas.Top of Hill.Private/Quiet/Grass...      0\n",
       "3  SOLD BEFORE PROCESSING - Welcome home to this ...      0\n",
       "4  This tri-level end unit is one of Just 55 unit...      0"
      ]
     },
     "execution_count": 16,
     "metadata": {},
     "output_type": "execute_result"
    }
   ],
   "source": [
    "df['chars'] = df['Description'].apply(lambda x: len([x for x in x.split() if '!' in x]))\n",
    "df[['Description','chars']].head()"
   ]
  },
  {
   "cell_type": "markdown",
   "metadata": {},
   "source": [
    "### Numerics"
   ]
  },
  {
   "cell_type": "code",
   "execution_count": 17,
   "metadata": {},
   "outputs": [
    {
     "data": {
      "text/html": [
       "<div>\n",
       "<style scoped>\n",
       "    .dataframe tbody tr th:only-of-type {\n",
       "        vertical-align: middle;\n",
       "    }\n",
       "\n",
       "    .dataframe tbody tr th {\n",
       "        vertical-align: top;\n",
       "    }\n",
       "\n",
       "    .dataframe thead th {\n",
       "        text-align: right;\n",
       "    }\n",
       "</style>\n",
       "<table border=\"1\" class=\"dataframe\">\n",
       "  <thead>\n",
       "    <tr style=\"text-align: right;\">\n",
       "      <th></th>\n",
       "      <th>Description</th>\n",
       "      <th>numerics</th>\n",
       "    </tr>\n",
       "  </thead>\n",
       "  <tbody>\n",
       "    <tr>\n",
       "      <th>0</th>\n",
       "      <td>Huge Development or Investment Potential!. Thi...</td>\n",
       "      <td>2</td>\n",
       "    </tr>\n",
       "    <tr>\n",
       "      <th>1</th>\n",
       "      <td>Fully remodeled, Corner Unit townhome in the C...</td>\n",
       "      <td>4</td>\n",
       "    </tr>\n",
       "    <tr>\n",
       "      <th>2</th>\n",
       "      <td>Cabrini Villas.Top of Hill.Private/Quiet/Grass...</td>\n",
       "      <td>2</td>\n",
       "    </tr>\n",
       "    <tr>\n",
       "      <th>3</th>\n",
       "      <td>SOLD BEFORE PROCESSING - Welcome home to this ...</td>\n",
       "      <td>2</td>\n",
       "    </tr>\n",
       "    <tr>\n",
       "      <th>4</th>\n",
       "      <td>This tri-level end unit is one of Just 55 unit...</td>\n",
       "      <td>2</td>\n",
       "    </tr>\n",
       "  </tbody>\n",
       "</table>\n",
       "</div>"
      ],
      "text/plain": [
       "                                         Description  numerics\n",
       "0  Huge Development or Investment Potential!. Thi...         2\n",
       "1  Fully remodeled, Corner Unit townhome in the C...         4\n",
       "2  Cabrini Villas.Top of Hill.Private/Quiet/Grass...         2\n",
       "3  SOLD BEFORE PROCESSING - Welcome home to this ...         2\n",
       "4  This tri-level end unit is one of Just 55 unit...         2"
      ]
     },
     "execution_count": 17,
     "metadata": {},
     "output_type": "execute_result"
    }
   ],
   "source": [
    "df['numerics'] = df['Description'].apply(lambda x: len([x for x in x.split() if x.isdigit()]))\n",
    "df[['Description','numerics']].head()"
   ]
  },
  {
   "cell_type": "markdown",
   "metadata": {},
   "source": [
    "### Uppercase"
   ]
  },
  {
   "cell_type": "code",
   "execution_count": 18,
   "metadata": {},
   "outputs": [
    {
     "data": {
      "text/html": [
       "<div>\n",
       "<style scoped>\n",
       "    .dataframe tbody tr th:only-of-type {\n",
       "        vertical-align: middle;\n",
       "    }\n",
       "\n",
       "    .dataframe tbody tr th {\n",
       "        vertical-align: top;\n",
       "    }\n",
       "\n",
       "    .dataframe thead th {\n",
       "        text-align: right;\n",
       "    }\n",
       "</style>\n",
       "<table border=\"1\" class=\"dataframe\">\n",
       "  <thead>\n",
       "    <tr style=\"text-align: right;\">\n",
       "      <th></th>\n",
       "      <th>Description</th>\n",
       "      <th>upper</th>\n",
       "    </tr>\n",
       "  </thead>\n",
       "  <tbody>\n",
       "    <tr>\n",
       "      <th>0</th>\n",
       "      <td>Huge Development or Investment Potential!. Thi...</td>\n",
       "      <td>2</td>\n",
       "    </tr>\n",
       "    <tr>\n",
       "      <th>1</th>\n",
       "      <td>Fully remodeled, Corner Unit townhome in the C...</td>\n",
       "      <td>3</td>\n",
       "    </tr>\n",
       "    <tr>\n",
       "      <th>2</th>\n",
       "      <td>Cabrini Villas.Top of Hill.Private/Quiet/Grass...</td>\n",
       "      <td>2</td>\n",
       "    </tr>\n",
       "    <tr>\n",
       "      <th>3</th>\n",
       "      <td>SOLD BEFORE PROCESSING - Welcome home to this ...</td>\n",
       "      <td>3</td>\n",
       "    </tr>\n",
       "    <tr>\n",
       "      <th>4</th>\n",
       "      <td>This tri-level end unit is one of Just 55 unit...</td>\n",
       "      <td>2</td>\n",
       "    </tr>\n",
       "  </tbody>\n",
       "</table>\n",
       "</div>"
      ],
      "text/plain": [
       "                                         Description  upper\n",
       "0  Huge Development or Investment Potential!. Thi...      2\n",
       "1  Fully remodeled, Corner Unit townhome in the C...      3\n",
       "2  Cabrini Villas.Top of Hill.Private/Quiet/Grass...      2\n",
       "3  SOLD BEFORE PROCESSING - Welcome home to this ...      3\n",
       "4  This tri-level end unit is one of Just 55 unit...      2"
      ]
     },
     "execution_count": 18,
     "metadata": {},
     "output_type": "execute_result"
    }
   ],
   "source": [
    "df['upper'] = df['Description'].apply(lambda x: len([x for x in x.split() if x.isupper()]))\n",
    "df[['Description','upper']].head()"
   ]
  },
  {
   "cell_type": "markdown",
   "metadata": {},
   "source": [
    "## Basic Pre-processing"
   ]
  },
  {
   "cell_type": "code",
   "execution_count": 19,
   "metadata": {},
   "outputs": [],
   "source": [
    "# Convert to Lowercase\n",
    "df['description'] = df['Description'].apply(lambda x: \" \".join(x.lower() for x in x.split()))\n",
    "\n",
    "# Remove punctuation\n",
    "df['description'] = df['description'].str.replace('[^\\w\\s]','')"
   ]
  },
  {
   "cell_type": "markdown",
   "metadata": {},
   "source": [
    "### Remove noisy words"
   ]
  },
  {
   "cell_type": "code",
   "execution_count": 20,
   "metadata": {},
   "outputs": [],
   "source": [
    "# Remove stop words\n",
    "df['description'] = df['description'].apply(lambda x: \" \".join(x for x in x.split() if x not in stop))\n",
    "\n",
    "# Remove common words\n",
    "freq1 = pd.Series(' '.join(df['description']).split()).value_counts()[:10]\n",
    "freq1 = list(freq1.index)\n",
    "df['description'] = df['description'].apply(lambda x: \" \".join(x for x in x.split() if x not in freq1))\n",
    "\n",
    "# Remove rare words\n",
    "freq2 = pd.Series(' '.join(df['description']).split()).value_counts()[-10:]\n",
    "freq2 = list(freq2.index)\n",
    "df['description'] = df['description'].apply(lambda x: \" \".join(x for x in x.split() if x not in freq2))"
   ]
  },
  {
   "cell_type": "markdown",
   "metadata": {},
   "source": [
    "# Analysis\n",
    "\n",
    "https://smltar.com/mlregression.html#mlregressionfull"
   ]
  },
  {
   "cell_type": "markdown",
   "metadata": {},
   "source": [
    "## Tokenize"
   ]
  },
  {
   "cell_type": "code",
   "execution_count": 21,
   "metadata": {},
   "outputs": [],
   "source": [
    "#from nltk import word_tokenize"
   ]
  },
  {
   "cell_type": "code",
   "execution_count": 22,
   "metadata": {},
   "outputs": [],
   "source": [
    "#df['descrip'] = [word_tokenize(entry) for entry in df['description']]"
   ]
  },
  {
   "cell_type": "markdown",
   "metadata": {},
   "source": [
    "### Lemmatization (Not yet Done)"
   ]
  },
  {
   "cell_type": "code",
   "execution_count": 23,
   "metadata": {},
   "outputs": [],
   "source": [
    "from textblob import Word\n",
    "from nltk.stem import WordNetLemmatizer"
   ]
  },
  {
   "cell_type": "code",
   "execution_count": 24,
   "metadata": {},
   "outputs": [],
   "source": [
    "# lemmatizer = WordNetLemmatizer()\n",
    "# #' '.join([wnl.lemmatize(words) for words in df['descrip'][0]])\n",
    "# # def lemmatize_text(text):\n",
    "# #     return [lemmatizer.lemmatize(w) for w in text]\n",
    "\n",
    "# def lemmatize_text(text):\n",
    "#     return [lemmatizer.lemmatize(text)]\n",
    "\n",
    "# df['description'] = df['description'].apply(lemmatize_text)"
   ]
  },
  {
   "cell_type": "markdown",
   "metadata": {},
   "source": [
    "## Train-Test Split"
   ]
  },
  {
   "cell_type": "code",
   "execution_count": 25,
   "metadata": {},
   "outputs": [],
   "source": [
    "from sklearn.model_selection import train_test_split"
   ]
  },
  {
   "cell_type": "code",
   "execution_count": 26,
   "metadata": {},
   "outputs": [],
   "source": [
    "X = df['description']\n",
    "y = df['Price']"
   ]
  },
  {
   "cell_type": "code",
   "execution_count": 27,
   "metadata": {},
   "outputs": [],
   "source": [
    "X_train, X_test, y_train, y_test = train_test_split(X, y, test_size = .2)"
   ]
  },
  {
   "cell_type": "markdown",
   "metadata": {},
   "source": [
    "## Count Vectorizer & TF-IDF"
   ]
  },
  {
   "cell_type": "code",
   "execution_count": 28,
   "metadata": {},
   "outputs": [],
   "source": [
    "from sklearn.feature_extraction.text import CountVectorizer"
   ]
  },
  {
   "cell_type": "code",
   "execution_count": 29,
   "metadata": {},
   "outputs": [],
   "source": [
    "count_vect = CountVectorizer()\n",
    "X_train_counts = count_vect.fit_transform(X_train)\n",
    "X_test_counts = count_vect.transform(X_test)"
   ]
  },
  {
   "cell_type": "code",
   "execution_count": 30,
   "metadata": {},
   "outputs": [],
   "source": [
    "from sklearn.feature_extraction.text import TfidfTransformer"
   ]
  },
  {
   "cell_type": "code",
   "execution_count": 31,
   "metadata": {},
   "outputs": [],
   "source": [
    "tfidf_transformer = TfidfTransformer()\n",
    "X_train_tfidf = tfidf_transformer.fit_transform(X_train_counts)\n",
    "X_test_tfidf = tfidf_transformer.transform(X_test_counts)"
   ]
  },
  {
   "cell_type": "markdown",
   "metadata": {},
   "source": [
    "## Apply SVR"
   ]
  },
  {
   "cell_type": "code",
   "execution_count": 32,
   "metadata": {},
   "outputs": [],
   "source": [
    "from sklearn.svm import SVR"
   ]
  },
  {
   "cell_type": "code",
   "execution_count": 33,
   "metadata": {},
   "outputs": [
    {
     "data": {
      "text/plain": [
       "SVR(kernel='linear')"
      ]
     },
     "execution_count": 33,
     "metadata": {},
     "output_type": "execute_result"
    }
   ],
   "source": [
    "regressor = SVR(kernel = 'linear')\n",
    "regressor.fit(X_train_tfidf, y_train)"
   ]
  },
  {
   "cell_type": "code",
   "execution_count": 34,
   "metadata": {},
   "outputs": [
    {
     "data": {
      "text/plain": [
       "-0.029103372076150436"
      ]
     },
     "execution_count": 34,
     "metadata": {},
     "output_type": "execute_result"
    }
   ],
   "source": [
    "regressor.score(X_train_tfidf, y_train)"
   ]
  },
  {
   "cell_type": "code",
   "execution_count": 35,
   "metadata": {},
   "outputs": [
    {
     "data": {
      "text/plain": [
       "-0.04187638193573906"
      ]
     },
     "execution_count": 35,
     "metadata": {},
     "output_type": "execute_result"
    }
   ],
   "source": [
    "regressor.score(X_test_tfidf, y_test)"
   ]
  },
  {
   "cell_type": "markdown",
   "metadata": {},
   "source": [
    "## Apply LinearSVR"
   ]
  },
  {
   "cell_type": "code",
   "execution_count": 36,
   "metadata": {},
   "outputs": [],
   "source": [
    "from sklearn.svm import LinearSVR"
   ]
  },
  {
   "cell_type": "code",
   "execution_count": 37,
   "metadata": {},
   "outputs": [
    {
     "data": {
      "text/plain": [
       "LinearSVR(random_state=0, tol=1e-05)"
      ]
     },
     "execution_count": 37,
     "metadata": {},
     "output_type": "execute_result"
    }
   ],
   "source": [
    "regr = LinearSVR(random_state=0, tol=1e-5)\n",
    "regr.fit(X_train_tfidf, y_train)"
   ]
  },
  {
   "cell_type": "code",
   "execution_count": 38,
   "metadata": {},
   "outputs": [
    {
     "data": {
      "text/plain": [
       "-0.20559940294703272"
      ]
     },
     "execution_count": 38,
     "metadata": {},
     "output_type": "execute_result"
    }
   ],
   "source": [
    "regr.score(X_train_tfidf, y_train)"
   ]
  },
  {
   "cell_type": "code",
   "execution_count": 39,
   "metadata": {},
   "outputs": [
    {
     "data": {
      "text/plain": [
       "-0.32053718396875075"
      ]
     },
     "execution_count": 39,
     "metadata": {},
     "output_type": "execute_result"
    }
   ],
   "source": [
    "regr.score(X_test_tfidf, y_test)"
   ]
  },
  {
   "cell_type": "markdown",
   "metadata": {},
   "source": [
    "## Apply LinearSVC"
   ]
  },
  {
   "cell_type": "code",
   "execution_count": 40,
   "metadata": {},
   "outputs": [],
   "source": [
    "from sklearn.svm import LinearSVC"
   ]
  },
  {
   "cell_type": "code",
   "execution_count": 41,
   "metadata": {},
   "outputs": [
    {
     "data": {
      "text/plain": [
       "LinearSVC(random_state=0, tol=1e-05)"
      ]
     },
     "execution_count": 41,
     "metadata": {},
     "output_type": "execute_result"
    }
   ],
   "source": [
    "regressr = LinearSVC(random_state=0, tol=1e-5)\n",
    "regressr.fit(X_train_tfidf, y_train)"
   ]
  },
  {
   "cell_type": "code",
   "execution_count": 42,
   "metadata": {},
   "outputs": [
    {
     "data": {
      "text/plain": [
       "0.9786306149149586"
      ]
     },
     "execution_count": 42,
     "metadata": {},
     "output_type": "execute_result"
    }
   ],
   "source": [
    "regressr.score(X_train_tfidf, y_train)"
   ]
  },
  {
   "cell_type": "code",
   "execution_count": 43,
   "metadata": {},
   "outputs": [
    {
     "data": {
      "text/plain": [
       "0.11322674418604652"
      ]
     },
     "execution_count": 43,
     "metadata": {},
     "output_type": "execute_result"
    }
   ],
   "source": [
    "regressr.score(X_test_tfidf, y_test)"
   ]
  },
  {
   "cell_type": "markdown",
   "metadata": {},
   "source": [
    "## Apply SVC"
   ]
  },
  {
   "cell_type": "code",
   "execution_count": 44,
   "metadata": {},
   "outputs": [],
   "source": [
    "from sklearn.svm import SVC"
   ]
  },
  {
   "cell_type": "code",
   "execution_count": 45,
   "metadata": {},
   "outputs": [],
   "source": [
    "svm = SVC()"
   ]
  },
  {
   "cell_type": "code",
   "execution_count": 46,
   "metadata": {},
   "outputs": [
    {
     "data": {
      "text/plain": [
       "0.5339075447012647"
      ]
     },
     "execution_count": 46,
     "metadata": {},
     "output_type": "execute_result"
    }
   ],
   "source": [
    "svm.fit(X_train_tfidf, y_train)\n",
    "svm.score(X_train_tfidf, y_train)"
   ]
  },
  {
   "cell_type": "code",
   "execution_count": 47,
   "metadata": {},
   "outputs": [
    {
     "data": {
      "text/plain": [
       "0.05683139534883721"
      ]
     },
     "execution_count": 47,
     "metadata": {},
     "output_type": "execute_result"
    }
   ],
   "source": [
    "svm.score(X_test_tfidf, y_test)"
   ]
  }
 ],
 "metadata": {
  "kernelspec": {
   "display_name": "Python 3",
   "language": "python",
   "name": "python3"
  },
  "language_info": {
   "codemirror_mode": {
    "name": "ipython",
    "version": 3
   },
   "file_extension": ".py",
   "mimetype": "text/x-python",
   "name": "python",
   "nbconvert_exporter": "python",
   "pygments_lexer": "ipython3",
   "version": "3.8.5"
  }
 },
 "nbformat": 4,
 "nbformat_minor": 4
}
